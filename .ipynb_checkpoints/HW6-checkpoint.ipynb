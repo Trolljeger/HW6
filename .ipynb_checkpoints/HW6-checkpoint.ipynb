{
 "cells": [
  {
   "cell_type": "markdown",
   "metadata": {},
   "source": [
    "1.        Загрузить датасет, расположенный по адресу: https://www.kaggle.com/datasets/berkeleyearth/climate-change-earth-surface-temperature-data\n",
    "2.        С помощью встроенных функций работы с файлами формата *.csv открыть файл GlobalLandTemperaturesByCity.csv\n",
    "3.        Рассчитать среднее значение температуры (поле AverageTemperature) по столетиям для России.\n",
    "4.        Рассчитать среднее значение температуры (поле AverageTemperature) по столетиям для города Белгород.\n",
    "5.        Рассчитать максимальную и минимальную средние месячную и годовую температуры для города Абакан.\n",
    "6.        Определить даты, когда были зафиксированы максимальная и минимальная средние температуры в городе Архангельск.\n",
    "7.        Построить график изменения средней температуры по годам для России за все время измерений.\n",
    "8.        Построить график изменения средней температуры по года для города Благовещенск за все время измерений.\n",
    "9.        Рассчитать среднюю месячную температуры для России за все время измерений и построить гистограмму распределения.\n",
    "10.      Рассчитать среднюю месячную температуры для России за все время измерений и построить гистограмму распределения.\n",
    "11.      Рассчитать среднюю месячную температуры для города Батайск за все время измерений и построить гистограмму распределения.\n",
    "\n",
    "Результат оформить в виде jupiter ноутбука и разместить в репозитарии github"
   ]
  },
  {
   "cell_type": "markdown",
   "metadata": {},
   "source": [
    "Подключение модуля для работы с CSV файлами\n",
    "------"
   ]
  },
  {
   "cell_type": "code",
   "execution_count": 14,
   "metadata": {},
   "outputs": [],
   "source": [
    "import csv"
   ]
  },
  {
   "cell_type": "markdown",
   "metadata": {},
   "source": [
    "Пункт 2. Открытие файла на чтение\n",
    "===========\n"
   ]
  },
  {
   "cell_type": "code",
   "execution_count": 25,
   "metadata": {},
   "outputs": [],
   "source": [
    "file_name = 'GlobalLandTemperaturesByCity.csv'\n",
    "\n",
    "# данные файла\n",
    "src_data = []\n",
    "\n",
    "with open(file_name, 'r', encoding=\"utf-8\") as data_file:\n",
    "    \n",
    "    # считываем данные в виде словаря\n",
    "    csv_reader = csv.DictReader(data_file)\n",
    "    \n",
    "    for row in csv_reader:\n",
    "        src_data.append(dict(row))\n"
   ]
  },
  {
   "cell_type": "code",
   "execution_count": null,
   "metadata": {},
   "outputs": [],
   "source": []
  },
  {
   "cell_type": "code",
   "execution_count": null,
   "metadata": {},
   "outputs": [],
   "source": []
  }
 ],
 "metadata": {
  "kernelspec": {
   "display_name": "Python 3",
   "language": "python",
   "name": "python3"
  },
  "language_info": {
   "codemirror_mode": {
    "name": "ipython",
    "version": 3
   },
   "file_extension": ".py",
   "mimetype": "text/x-python",
   "name": "python",
   "nbconvert_exporter": "python",
   "pygments_lexer": "ipython3",
   "version": "3.7.4"
  }
 },
 "nbformat": 4,
 "nbformat_minor": 2
}
