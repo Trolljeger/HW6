{
 "cells": [
  {
   "cell_type": "markdown",
   "metadata": {},
   "source": [
    "1.        Загрузить датасет, расположенный по адресу: https://www.kaggle.com/datasets/berkeleyearth/climate-change-earth-surface-temperature-data\n",
    "2.        С помощью встроенных функций работы с файлами формата *.csv открыть файл GlobalLandTemperaturesByCity.csv\n",
    "3.        Рассчитать среднее значение температуры (поле AverageTemperature) по столетиям для России.\n",
    "4.        Рассчитать среднее значение температуры (поле AverageTemperature) по столетиям для города Белгород.\n",
    "5.        Рассчитать максимальную и минимальную средние месячную и годовую температуры для города Абакан.\n",
    "6.        Определить даты, когда были зафиксированы максимальная и минимальная средние температуры в городе Архангельск.\n",
    "7.        Построить график изменения средней температуры по годам для России за все время измерений.\n",
    "8.        Построить график изменения средней температуры по года для города Благовещенск за все время измерений.\n",
    "9.        Рассчитать среднюю месячную температуры для России за все время измерений и построить гистограмму распределения.\n",
    "10.      Рассчитать среднюю месячную температуры для России за все время измерений и построить гистограмму распределения.\n",
    "11.      Рассчитать среднюю месячную температуры для города Батайск за все время измерений и построить гистограмму распределения.\n",
    "\n",
    "Результат оформить в виде jupiter ноутбука и разместить в репозитарии github"
   ]
  },
  {
   "cell_type": "code",
   "execution_count": 1,
   "metadata": {},
   "outputs": [],
   "source": [
    "import numpy as np\n",
    "import pandas as pd"
   ]
  },
  {
   "cell_type": "markdown",
   "metadata": {},
   "source": [
    "Пункт 2. Открытие файла на чтение\n",
    "-----\n"
   ]
  },
  {
   "cell_type": "code",
   "execution_count": 2,
   "metadata": {},
   "outputs": [],
   "source": [
    "file_name = 'GlobalLandTemperaturesByCity.csv'\n",
    "src_data = pd.read_csv(file_name, delimiter=',')\n",
    "\n"
   ]
  },
  {
   "cell_type": "markdown",
   "metadata": {},
   "source": [
    "Пункт 3. Рассчитать среднее значение температуры (поле AverageTemperature) по столетиям для России.\n",
    "---"
   ]
  },
  {
   "cell_type": "code",
   "execution_count": 3,
   "metadata": {},
   "outputs": [
    {
     "name": "stdout",
     "output_type": "stream",
     "text": [
      "Century\n",
      "18    4.220250\n",
      "19    2.875905\n",
      "20    3.319573\n",
      "21    4.730073\n",
      "Name: AverageTemperature, dtype: float64\n"
     ]
    },
    {
     "name": "stderr",
     "output_type": "stream",
     "text": [
      "C:\\ProgramData\\Anaconda3\\lib\\site-packages\\ipykernel_launcher.py:5: SettingWithCopyWarning: \n",
      "A value is trying to be set on a copy of a slice from a DataFrame.\n",
      "Try using .loc[row_indexer,col_indexer] = value instead\n",
      "\n",
      "See the caveats in the documentation: http://pandas.pydata.org/pandas-docs/stable/user_guide/indexing.html#returning-a-view-versus-a-copy\n",
      "  \"\"\"\n",
      "C:\\ProgramData\\Anaconda3\\lib\\site-packages\\ipykernel_launcher.py:8: SettingWithCopyWarning: \n",
      "A value is trying to be set on a copy of a slice from a DataFrame.\n",
      "Try using .loc[row_indexer,col_indexer] = value instead\n",
      "\n",
      "See the caveats in the documentation: http://pandas.pydata.org/pandas-docs/stable/user_guide/indexing.html#returning-a-view-versus-a-copy\n",
      "  \n"
     ]
    }
   ],
   "source": [
    "# Выборка данных по значению колонки 'Country' == Russia\n",
    "rus_data = src_data[src_data['Country'] == 'Russia']\n",
    "\n",
    "# Преобразуем дату в datetime \n",
    "rus_data['dt'] = pd.to_datetime(rus_data['dt'])\n",
    "\n",
    "# Добавляем столбец со значением века\n",
    "rus_data['Century'] = rus_data['dt'].dt.year//100 +1\n",
    "\n",
    "# Группируем данные по значению века, вычисляем среднюю температуру\n",
    "century_mean_rus_data = rus_data.groupby('Century')['AverageTemperature'].mean()\n",
    "print(century_mean_rus_data)\n"
   ]
  },
  {
   "cell_type": "markdown",
   "metadata": {},
   "source": [
    "Пункт 4. Рассчитать среднее значение температуры (поле AverageTemperature) по столетиям для города Белгород.\n",
    "-----"
   ]
  },
  {
   "cell_type": "code",
   "execution_count": 4,
   "metadata": {},
   "outputs": [
    {
     "name": "stdout",
     "output_type": "stream",
     "text": [
      "Century\n",
      "18    6.000228\n",
      "19    5.711438\n",
      "20    6.266888\n",
      "21    7.868878\n",
      "Name: AverageTemperature, dtype: float64\n"
     ]
    }
   ],
   "source": [
    "# Выборка данных по значению колонки 'City' == Belgorod из данных по России\n",
    "Belgorod_data = rus_data[rus_data['City'] == 'Belgorod']\n",
    "century_mean_blg_data = Belgorod_data.groupby('Century')['AverageTemperature'].mean()\n",
    "print(century_mean_blg_data)"
   ]
  },
  {
   "cell_type": "markdown",
   "metadata": {},
   "source": [
    "Пункт 5. Рассчитать максимальную и минимальную средние месячную и годовую температуры для города Абакан.\n",
    "---"
   ]
  },
  {
   "cell_type": "code",
   "execution_count": 11,
   "metadata": {},
   "outputs": [
    {
     "name": "stdout",
     "output_type": "stream",
     "text": [
      "Abakan MIN month avg temperature = -31.138\n",
      "Abakan MAX month avg temperature = 21.503\n",
      "\n",
      "\n",
      "Abakan MIN year avg temperature = -2.778\n",
      "Abakan MAX year avg temperature = 2.6065833333333344\n"
     ]
    }
   ],
   "source": [
    "# Выборка данных по значению колонки 'City' == Abakan из данных по России\n",
    "Abakan_data = rus_data[rus_data['City'] == 'Abakan']\n",
    "Abakan_mean_month_data = Abakan_data.groupby([Abakan_data['dt'].dt.year, Abakan_data['dt'].dt.month])['AverageTemperature'].mean()\n",
    "print(f'Abakan MIN month avg temperature = {Abakan_mean_month_data.min()}')\n",
    "print(f'Abakan MAX month avg temperature = {Abakan_mean_month_data.max()}')\n",
    "print('\\n')\n",
    "\n",
    "\n",
    "Abakan_mean_year_data = Abakan_data.groupby(Abakan_data['dt'].dt.year)['AverageTemperature'].mean()\n",
    "print(f'Abakan MIN year avg temperature = {Abakan_mean_year_data.min()}')\n",
    "print(f'Abakan MAX year avg temperature = {Abakan_mean_year_data.max()}')\n"
   ]
  },
  {
   "cell_type": "markdown",
   "metadata": {},
   "source": [
    "Пункт 6. Определить даты, когда были зафиксированы максимальная и минимальная средние температуры в городе Архангельск.\n",
    "----"
   ]
  },
  {
   "cell_type": "code",
   "execution_count": 20,
   "metadata": {},
   "outputs": [
    {
     "name": "stdout",
     "output_type": "stream",
     "text": [
      "Дата минимальной средней температуры в Архангельске: 1985-01-01\n",
      "Дата максимальной средней температуры в Архангельске: 1960-07-01\n"
     ]
    }
   ],
   "source": [
    "# Выборка данных по значению колонки 'City' == Arkhangelsk из данных по России\n",
    "Arkhangelsk_data = rus_data[rus_data['City'] == 'Arkhangelsk']\n",
    "\n",
    "Arkhangelsk_min_date = Arkhangelsk_data.loc[Arkhangelsk_data['AverageTemperature'].idxmin(), 'dt'].date()\n",
    "Arkhangelsk_max_date = Arkhangelsk_data.loc[Arkhangelsk_data['AverageTemperature'].idxmax(), 'dt'].date()\n",
    "print(f'Дата минимальной средней температуры в Архангельске: {Arkhangelsk_min_date}')\n",
    "print(f'Дата максимальной средней температуры в Архангельске: {Arkhangelsk_max_date}')"
   ]
  },
  {
   "cell_type": "markdown",
   "metadata": {},
   "source": [
    "Пункт 7. Построить график изменения средней температуры по годам для России за все время измерений.\n",
    "---"
   ]
  },
  {
   "cell_type": "code",
   "execution_count": null,
   "metadata": {},
   "outputs": [],
   "source": []
  }
 ],
 "metadata": {
  "kernelspec": {
   "display_name": "Python 3",
   "language": "python",
   "name": "python3"
  },
  "language_info": {
   "codemirror_mode": {
    "name": "ipython",
    "version": 3
   },
   "file_extension": ".py",
   "mimetype": "text/x-python",
   "name": "python",
   "nbconvert_exporter": "python",
   "pygments_lexer": "ipython3",
   "version": "3.7.4"
  }
 },
 "nbformat": 4,
 "nbformat_minor": 2
}
